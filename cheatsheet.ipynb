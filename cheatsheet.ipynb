{
 "cells": [
  {
   "cell_type": "markdown",
   "metadata": {},
   "source": [
    "# Descriptive Statistics\n\n",
    "En esta sección exploramos medidas descriptivas fundamentales como la media, mediana, varianza y desviación estándar, y revisamos algunas propiedades importantes de la varianza."
   ]
  },
  {
   "cell_type": "markdown",
   "metadata": {},
   "source": [
    "## Media\n\n",
    "La **media** es la medida de tendencia central que se calcula como el promedio aritmético de un conjunto de valores. Representa el punto de equilibrio de los datos.\n\n",
    "### Fórmula matemática:\n",
    "$$\n",
    "\\mu = \\frac{1}{n} \\sum_{i=1}^{n} x_i\n",
    "$$\n\n",
    "Donde:\n",
    "- $n$ es el número total de valores.\n",
    "- $x_i$ son los valores individuales.\n\n",
    "### Cálculo en Python:\n",
    "```python\n",
    "from scipy.stats import tmean\n",
    "import pandas as pd\n\n",
    "# Datos de ejemplo\n",
    "data = [10, 20, 30, 40, 50]\n\n",
    "# Usando scipy\n",
    "mean_scipy = tmean(data)\n\n",
    "# Usando pandas\n",
    "df = pd.DataFrame({'values': data})\n",
    "mean_pandas = df['values'].mean()\n",
    "```"
   ]
  },
  {
   "cell_type": "markdown",
   "metadata": {},
   "source": [
    "## Mediana\n\n",
    "La **mediana** es el valor que divide un conjunto de datos ordenados en dos partes iguales. Es menos sensible a valores extremos en comparación con la media.\n\n",
    "### Fórmula matemática:\n",
    "- Si el número de valores es impar: $\\text{Mediana} = x_{(n+1)/2}$\n",
    "- Si el número de valores es par: $\\text{Mediana} = \\frac{x_{n/2} + x_{(n/2)+1}}{2}$\n\n",
    "### Cálculo en Python:\n",
    "```python\n",
    "from numpy import median\n\n",
    "# Usando numpy\n",
    "median_numpy = median(data)\n\n",
    "# Usando pandas\n",
    "median_pandas = df['values'].median()\n",
    "```"
   ]
  },
  {
   "cell_type": "markdown",
   "metadata": {},
   "source": [
    "## Varianza\n\n",
    "La **varianza** mide la dispersión de los datos con respecto a la media. Se calcula como el promedio de los cuadrados de las diferencias entre cada valor y la media.\n\n",
    "### Fórmula matemática:\n",
    "$$\n",
    "\\sigma^2 = \\frac{1}{n} \\sum_{i=1}^{n} (x_i - \\mu)^2\n",
    "$$\n\n",
    "### Cálculo en Python:\n",
    "```python\n",
    "from scipy.stats import tvar\n\n",
    "# Usando scipy\n",
    "variance_scipy = tvar(data)\n\n",
    "# Usando pandas\n",
    "variance_pandas = df['values'].var(ddof=0)  # ddof=0 para la varianza poblacional\n",
    "```"
   ]
  },
  {
   "cell_type": "markdown",
   "metadata": {},
   "source": [
    "## Desviación Estándar\n\n",
    "La **desviación estándar** es la raíz cuadrada de la varianza y proporciona una medida de la dispersión en las mismas unidades que los datos originales.\n\n",
    "### Fórmula matemática:\n",
    "$$\n",
    "\\sigma = \\sqrt{\\frac{1}{n} \\sum_{i=1}^{n} (x_i - \\mu)^2}\n",
    "$$\n\n",
    "### Cálculo en Python:\n",
    "```python\n",
    "from scipy.stats import tstd\n\n",
    "# Usando scipy\n",
    "std_scipy = tstd(data)\n\n",
    "# Usando pandas\n",
    "std_pandas = df['values'].std(ddof=0)  # ddof=0 para la desviación estándar poblacional\n",
    "```"
   ]
  },
  {
   "cell_type": "markdown",
   "metadata": {},
   "source": [
    "## Propiedades de la Varianza\n\n",
    "1. La varianza nunca es negativa: $\\sigma^2 \\geq 0$.\n",
    "2. Si todos los valores son iguales, la varianza es 0.\n",
    "3. Multiplicar todos los valores por una constante $c$ multiplica la varianza por $c^2$: $\\text{Var}(cX) = c^2 \\cdot \\text{Var}(X)$.\n\n",
    "### Fórmulas matemáticas:\n\n",
    "- Si $X$ e $Y$ son variables independientes:\n",
    "$$\n",
    "\\text{Var}(X + Y) = \\text{Var}(X) + \\text{Var}(Y)\n",
    "$$\n\n",
    "- Si $c$ es una constante:\n",
    "$$\n",
    "\\text{Var}(cX) = c^2 \\cdot \\text{Var}(X)\n",
    "$$"
   ]
  }
 ],
 "metadata": {
  "kernelspec": {
   "display_name": "Python 3",
   "language": "python",
   "name": "python3"
  },
  "language_info": {
   "codemirror_mode": {
    "name": "ipython",
    "version": 3
   },
   "file_extension": ".py",
   "mimetype": "text/x-python",
   "name": "python",
   "nbconvert_exporter": "python",
   "pygments_lexer": "ipython3",
   "version": "3.9.7"
  }
 },
 "nbformat": 4,
 "nbformat_minor": 5
}
