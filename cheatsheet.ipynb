{
 "cells": [
  {
   "cell_type": "markdown",
   "metadata": {},
   "source": [
    "# Descriptive Statistics\n\n",
    "En esta sección exploramos medidas descriptivas fundamentales como la media, mediana, varianza, desviación estándar, y coeficiente de variación, junto con las propiedades de la varianza."
   ]
  },
  {
   "cell_type": "markdown",
   "metadata": {},
   "source": [
    "## Media\n\n",
    "La **media** es la medida de tendencia central que se calcula como el promedio aritmético de un conjunto de valores. Representa el punto de equilibrio de los datos.\n\n",
    "### Fórmula matemática:\n",
    "$$\n",
    "\\large \\mu = \\frac{1}{n} \\sum_{i=1}^{n} x_i\n",
    "$$\n\n",
    "Donde:\n",
    "- $n$ es el número total de valores.\n",
    "- $x_i$ son los valores individuales.\n\n",
    "### Cálculo en Python:\n",
    "```python\n",
    "import numpy as np\n\n",
    "# Datos de ejemplo\n",
    "data = [10, 20, 30, 40, 50]\n\n",
    "# Usando numpy\n",
    "mean_numpy = np.mean(data)\n",
    "print(f\"Media: {mean_numpy:.2f}\")\n",
    "```"
   ]
  },
  {
   "cell_type": "markdown",
   "metadata": {},
   "source": [
    "## Mediana\n\n",
    "La **mediana** es el valor que divide un conjunto de datos ordenados en dos partes iguales. Es menos sensible a valores extremos en comparación con la media.\n\n",
    "### Fórmula matemática:\n",
    "- Si el número de valores es impar: $\\text{Mediana} = x_{(n+1)/2}$\n",
    "- Si el número de valores es par: $\\text{Mediana} = \\frac{x_{n/2} + x_{(n/2)+1}}{2}$\n\n",
    "### Cálculo en Python:\n",
    "```python\n",
    "# Usando numpy\n",
    "median_numpy = np.median(data)\n",
    "print(f\"Mediana: {median_numpy:.2f}\")\n",
    "```"
   ]
  },
  {
   "cell_type": "markdown",
   "metadata": {},
   "source": [
    "## Varianza\n\n",
    "La **varianza** mide la dispersión de los datos con respecto a la media. Se calcula como el promedio de los cuadrados de las diferencias entre cada valor y la media.\n\n",
    "### Fórmula matemática:\n",
    "$$\n",
    "\\large \\sigma^2 = \\frac{1}{n} \\sum_{i=1}^{n} (x_i - \\mu)^2\n",
    "$$\n\n",
    "### Cálculo en Python:\n",
    "```python\n",
    "# Usando numpy\n",
    "variance_numpy = np.var(data)\n",
    "print(f\"Varianza: {variance_numpy:.2f}\")\n",
    "```"
   ]
  },
  {
   "cell_type": "markdown",
   "metadata": {},
   "source": [
    "## Desviación Estándar\n\n",
    "La **desviación estándar** es la raíz cuadrada de la varianza y proporciona una medida de la dispersión en las mismas unidades que los datos originales.\n\n",
    "### Fórmula matemática:\n",
    "$$\n",
    "\\large \\sigma = \\sqrt{\\frac{1}{n} \\sum_{i=1}^{n} (x_i - \\mu)^2}\n",
    "$$\n\n",
    "### Cálculo en Python:\n",
    "```python\n",
    "# Usando numpy\n",
    "std_numpy = np.std(data)\n",
    "print(f\"Desviación Estándar: {std_numpy:.2f}\")\n",
    "```"
   ]
  },
  {
   "cell_type": "markdown",
   "metadata": {},
   "source": [
    "## Propiedades de la Varianza\n\n",
    "1. La varianza nunca es negativa: $\\sigma^2 \\geq 0$.\n",
    "2. Si todos los valores son iguales, la varianza es 0.\n",
    "3. Multiplicar todos los valores por una constante $c$ multiplica la varianza por $c^2$: $\\text{Var}(cX) = c^2 \\cdot \\text{Var}(X)$.\n\n",
    "### Fórmulas matemáticas:\n\n",
    "- Si $X$ e $Y$ son variables independientes:\n",
    "$$\n",
    "\\large \\text{Var}(X + Y) = \\text{Var}(X) + \\text{Var}(Y)\n",
    "$$\n\n",
    "- Si $c$ es una constante:\n",
    "$$\n",
    "\\large \\text{Var}(cX) = c^2 \\cdot \\text{Var}(X)\n",
    "$$"
   ]
  },
  {
   "cell_type": "markdown",
   "metadata": {},
   "source": [
    "## Coeficiente de Variación\n\n",
    "El **coeficiente de variación** (CV) es una medida relativa de dispersión que expresa la desviación estándar como un porcentaje de la media. Es útil para comparar la variabilidad entre diferentes conjuntos de datos con distintas unidades o magnitudes.\n\n",
    "### Fórmula matemática:\n",
    "$$\n",
    "\\large \\text{CV} = \\frac{\\sigma}{\\mu} \\times 100\n",
    "$$\n\n",
    "Donde:\n",
    "- $\\sigma$ es la desviación estándar.\n",
    "- $\\mu$ es la media.\n\n",
    "### Cálculo en Python:\n",
    "```python\n",
    "# Coeficiente de variación usando numpy\n",
    "cv = (std_numpy / mean_numpy) * 100\n",
    "print(f\"Coeficiente de Variación: {cv:.2f}%\")\n",
    "```\n\n",
    "### Notas:\n",
    "- El CV no tiene sentido cuando la media es cero o cercana a cero.\n",
    "- Es una medida sin unidades que permite comparaciones entre distintos contextos."
   ]
  }
 ],
 "metadata": {
  "kernelspec": {
   "display_name": "Python 3",
   "language": "python",
   "name": "python3"
  },
  "language_info": {
   "codemirror_mode": {
    "name": "ipython",
    "version": 3
   },
   "file_extension": ".py",
   "mimetype": "text/x-python",
   "name": "python",
   "nbconvert_exporter": "python",
   "pygments_lexer": "ipython3",
   "version": "3.9.7"
  }
 },
 "nbformat": 4,
 "nbformat_minor": 5
}
